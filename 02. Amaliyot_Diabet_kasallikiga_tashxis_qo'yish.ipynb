{
  "nbformat": 4,
  "nbformat_minor": 0,
  "metadata": {
    "colab": {
      "private_outputs": true,
      "provenance": [],
      "authorship_tag": "ABX9TyM8p6PTNmviThGXKubm1IIG",
      "include_colab_link": true
    },
    "kernelspec": {
      "name": "python3",
      "display_name": "Python 3"
    },
    "language_info": {
      "name": "python"
    }
  },
  "cells": [
    {
      "cell_type": "markdown",
      "metadata": {
        "id": "view-in-github",
        "colab_type": "text"
      },
      "source": [
        "<a href=\"https://colab.research.google.com/github/MrXkkr00/Data-Science/blob/main/02.%20Amaliyot_Diabet_kasallikiga_tashxis_qo'yish.ipynb\" target=\"_parent\"><img src=\"https://colab.research.google.com/assets/colab-badge.svg\" alt=\"Open In Colab\"/></a>"
      ]
    },
    {
      "cell_type": "code",
      "execution_count": null,
      "metadata": {
        "id": "OwA-ThDazn6X"
      },
      "outputs": [],
      "source": [
        "import pandas as pd\n",
        "import numpy as np\n"
      ]
    },
    {
      "cell_type": "code",
      "source": [
        "url = \"https://raw.githubusercontent.com/anvarnarz/praktikum_datasets/main/diabetes.csv\"\n",
        "df = pd.read_csv(url)\n",
        "df.head()"
      ],
      "metadata": {
        "id": "NNLHGJMO--Cy"
      },
      "execution_count": null,
      "outputs": []
    },
    {
      "cell_type": "code",
      "source": [
        "df"
      ],
      "metadata": {
        "id": "-2fo8B5u_DcH"
      },
      "execution_count": null,
      "outputs": []
    },
    {
      "cell_type": "code",
      "source": [
        "df['Outcome'].value_counts()"
      ],
      "metadata": {
        "id": "koZNb_mc_OTq"
      },
      "execution_count": null,
      "outputs": []
    },
    {
      "cell_type": "code",
      "source": [
        "df.corrwith(df['Outcome']).abs().sort_values(ascending=False) # bitta ustun uchun korrelatsiyalar"
      ],
      "metadata": {
        "id": "iWBLxcQm_3SZ"
      },
      "execution_count": null,
      "outputs": []
    },
    {
      "cell_type": "code",
      "source": [
        "# df ni aptipalroq natija chiqaradigan qilamiz\n",
        "\n",
        "df = df[['Outcome', 'Glucose', 'BMI']]"
      ],
      "metadata": {
        "id": "m6_zXLHTCPTN"
      },
      "execution_count": null,
      "outputs": []
    },
    {
      "cell_type": "code",
      "source": [
        "df"
      ],
      "metadata": {
        "id": "ykZY5C1kCcL0"
      },
      "execution_count": null,
      "outputs": []
    },
    {
      "cell_type": "markdown",
      "source": [
        "# ML ga tayyorlash\n"
      ],
      "metadata": {
        "id": "Q0qWBtboAR3Y"
      }
    },
    {
      "cell_type": "code",
      "source": [
        "X = df.drop('Outcome', axis=1).values\n",
        "y = df['Outcome']"
      ],
      "metadata": {
        "id": "SF2Z3ZEfAC0t"
      },
      "execution_count": null,
      "outputs": []
    },
    {
      "cell_type": "code",
      "source": [
        "from sklearn.preprocessing import StandardScaler\n",
        "\n",
        "scaler = StandardScaler()\n",
        "X = scaler.fit_transform(X)"
      ],
      "metadata": {
        "id": "rQIrQZCsAbrW"
      },
      "execution_count": null,
      "outputs": []
    },
    {
      "cell_type": "markdown",
      "source": [
        "# ML"
      ],
      "metadata": {
        "id": "uF2jLlHeBw8s"
      }
    },
    {
      "cell_type": "code",
      "source": [
        "from sklearn.model_selection import train_test_split\n",
        "X_train, X_test, y_train, y_test = train_test_split(X, y, test_size=0.2, random_state=42)\n",
        "\n",
        "\n"
      ],
      "metadata": {
        "id": "Zh66P43-AgT_"
      },
      "execution_count": null,
      "outputs": []
    },
    {
      "cell_type": "markdown",
      "source": [
        "## eng yaxshi knn ni topamiz"
      ],
      "metadata": {
        "id": "AYPGxsKeBE2m"
      }
    },
    {
      "cell_type": "code",
      "source": [
        "from sklearn.neighbors import KNeighborsClassifier\n",
        "from sklearn.metrics import precision_score, recall_score, f1_score, accuracy_score\n",
        "import matplotlib.pyplot as plt\n",
        "\n",
        "f1 = []\n",
        "for k in range(1,25):\n",
        "  knn = KNeighborsClassifier(n_neighbors=k) # k ning qiymati\n",
        "  knn.fit(X_train, y_train)\n",
        "  y_predict = knn.predict(X_test)\n",
        "  f1.append(f1_score(y_test, y_predict))\n",
        "\n",
        "plt.figure(figsize=(10,6))\n",
        "plt.plot(range(1,25), f1)\n",
        "plt.xticks(range(1,25))\n",
        "plt.grid()\n",
        "plt.show()"
      ],
      "metadata": {
        "id": "k04ovcPnAy0P"
      },
      "execution_count": null,
      "outputs": []
    },
    {
      "cell_type": "code",
      "source": [
        "from sklearn.neighbors import KNeighborsClassifier\n",
        "knn = KNeighborsClassifier(n_neighbors=11) # k-ni qiymati tepadan aniqlandi\n",
        "knn.fit(X_train, y_train)"
      ],
      "metadata": {
        "id": "UhLgVCT5BS98"
      },
      "execution_count": null,
      "outputs": []
    },
    {
      "cell_type": "code",
      "source": [
        "y_predict = knn.predict(X_test)"
      ],
      "metadata": {
        "id": "Ka_SITk4Bnwu"
      },
      "execution_count": null,
      "outputs": []
    },
    {
      "cell_type": "markdown",
      "source": [
        "# Baxolash"
      ],
      "metadata": {
        "id": "xsCrbgY8B1fv"
      }
    },
    {
      "cell_type": "code",
      "source": [
        "#jaccard score\n",
        "from sklearn.metrics import jaccard_score\n",
        "jaccard_score(y_test, y_predict)"
      ],
      "metadata": {
        "id": "PcdqJoHWBq0Y"
      },
      "execution_count": null,
      "outputs": []
    },
    {
      "cell_type": "code",
      "source": [
        "from sklearn.model_selection import  cross_val_predict\n",
        "predict = cross_val_predict(estimator=knn, X=X, y=y, cv=6)\n",
        "\n",
        "\n",
        "from sklearn.metrics import classification_report\n",
        "print(classification_report(y, predict))"
      ],
      "metadata": {
        "id": "cJa25u-mCDD7"
      },
      "execution_count": null,
      "outputs": []
    },
    {
      "cell_type": "markdown",
      "source": [
        "## Precision, recall, F1"
      ],
      "metadata": {
        "id": "VByKcph2Do34"
      }
    },
    {
      "cell_type": "code",
      "source": [
        "from sklearn.metrics import precision_score, recall_score, f1_score, accuracy_score\n",
        "\n",
        "precision = precision_score(y_test, y_predict)\n",
        "\n",
        "recall = recall_score(y_test, y_predict)\n",
        "\n",
        "f1 = f1_score(y_test, y_predict)\n",
        "\n",
        "accuracy = accuracy_score(y_test, y_predict)\n",
        "\n",
        "print(f\"Precision: {precision}\")\n",
        "print(f\"Recall: {recall}\")\n",
        "print(f\"F1: {f1}\")"
      ],
      "metadata": {
        "id": "P-dQqO1aC9kD"
      },
      "execution_count": null,
      "outputs": []
    },
    {
      "cell_type": "markdown",
      "source": [
        "## Confusion matrix"
      ],
      "metadata": {
        "id": "TZ3HUGfnDtY2"
      }
    },
    {
      "cell_type": "code",
      "source": [
        "from sklearn.metrics import confusion_matrix\n",
        "import seaborn as sns\n",
        "import matplotlib.pyplot as plt\n",
        "\n",
        "sns.heatmap(confusion_matrix(y_predict, y_test), annot=True)\n",
        "plt.show()"
      ],
      "metadata": {
        "id": "ycHqX4IsDnYv"
      },
      "execution_count": null,
      "outputs": []
    },
    {
      "cell_type": "code",
      "source": [],
      "metadata": {
        "id": "Nh7WsabEDueK"
      },
      "execution_count": null,
      "outputs": []
    }
  ]
}